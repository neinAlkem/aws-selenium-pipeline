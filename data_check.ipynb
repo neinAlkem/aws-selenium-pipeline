{
 "cells": [
  {
   "cell_type": "code",
   "execution_count": 4,
   "id": "1f482d3e",
   "metadata": {},
   "outputs": [],
   "source": [
    "import pandas as pd"
   ]
  },
  {
   "cell_type": "code",
   "execution_count": 5,
   "id": "a5878590",
   "metadata": {},
   "outputs": [],
   "source": [
    "data = pd.read_csv('gofood_reviews.csv')"
   ]
  },
  {
   "cell_type": "code",
   "execution_count": 6,
   "id": "29f265f1",
   "metadata": {},
   "outputs": [
    {
     "data": {
      "application/vnd.microsoft.datawrangler.viewer.v0+json": {
       "columns": [
        {
         "name": "index",
         "rawType": "int64",
         "type": "integer"
        },
        {
         "name": "merchant_name",
         "rawType": "object",
         "type": "string"
        },
        {
         "name": "date_review",
         "rawType": "object",
         "type": "string"
        },
        {
         "name": "product_name",
         "rawType": "object",
         "type": "string"
        },
        {
         "name": "review",
         "rawType": "object",
         "type": "string"
        },
        {
         "name": "rating",
         "rawType": "float64",
         "type": "float"
        }
       ],
       "conversionMethod": "pd.DataFrame",
       "ref": "71f2a5ff-bde7-4914-99aa-6a9264353e11",
       "rows": [
        [
         "0",
         "Mie Bakar Celaket, Jaksa Agung Suprapto",
         "Purchased on 1 November 2024",
         "Mie Bakar Bratwurst (Sosis) Ori - Mie Bakar Daging Asap Mozarella - Mie Bakar Udang Ori",
         "mantabbb pokoknya",
         "4.0"
        ],
        [
         "1",
         "Mie Bakar Celaket, Jaksa Agung Suprapto",
         "Purchased on 3 November 2024",
         "Combo 1",
         "enak tapi porsinya tambah dikit",
         "4.0"
        ],
        [
         "2",
         "Mie Bakar Celaket, Jaksa Agung Suprapto",
         "Purchased on 6 October 2024",
         "Combo 1",
         "selalu enak.. pertahankan terus..",
         "5.0"
        ],
        [
         "3",
         "Jank Jank Wings, Delivery & Take Away",
         "Purchased on 27 September 2024",
         "Bb Toss 1 Tiny",
         "Menu andalan aku kalo lagi pengen makan ayam..ayamnya gede dan bisa request . Saran aja kadang beberapa kali beli menu yg ada garlic mayonya tapi malah garlic mayo nya ga dikasih. Overall masih ttp jadi favorit akuu",
         "4.0"
        ],
        [
         "4",
         "Jank Jank Wings, Delivery & Take Away",
         "Purchased on 25 September 2024",
         "JJ 1 Giant",
         "maaf saya lagi kondisi ga fit dan laper, nasinya gada",
         "4.0"
        ]
       ],
       "shape": {
        "columns": 5,
        "rows": 5
       }
      },
      "text/html": [
       "<div>\n",
       "<style scoped>\n",
       "    .dataframe tbody tr th:only-of-type {\n",
       "        vertical-align: middle;\n",
       "    }\n",
       "\n",
       "    .dataframe tbody tr th {\n",
       "        vertical-align: top;\n",
       "    }\n",
       "\n",
       "    .dataframe thead th {\n",
       "        text-align: right;\n",
       "    }\n",
       "</style>\n",
       "<table border=\"1\" class=\"dataframe\">\n",
       "  <thead>\n",
       "    <tr style=\"text-align: right;\">\n",
       "      <th></th>\n",
       "      <th>merchant_name</th>\n",
       "      <th>date_review</th>\n",
       "      <th>product_name</th>\n",
       "      <th>review</th>\n",
       "      <th>rating</th>\n",
       "    </tr>\n",
       "  </thead>\n",
       "  <tbody>\n",
       "    <tr>\n",
       "      <th>0</th>\n",
       "      <td>Mie Bakar Celaket, Jaksa Agung Suprapto</td>\n",
       "      <td>Purchased on 1 November 2024</td>\n",
       "      <td>Mie Bakar Bratwurst (Sosis) Ori - Mie Bakar Da...</td>\n",
       "      <td>mantabbb pokoknya</td>\n",
       "      <td>4.0</td>\n",
       "    </tr>\n",
       "    <tr>\n",
       "      <th>1</th>\n",
       "      <td>Mie Bakar Celaket, Jaksa Agung Suprapto</td>\n",
       "      <td>Purchased on 3 November 2024</td>\n",
       "      <td>Combo 1</td>\n",
       "      <td>enak tapi porsinya tambah dikit</td>\n",
       "      <td>4.0</td>\n",
       "    </tr>\n",
       "    <tr>\n",
       "      <th>2</th>\n",
       "      <td>Mie Bakar Celaket, Jaksa Agung Suprapto</td>\n",
       "      <td>Purchased on 6 October 2024</td>\n",
       "      <td>Combo 1</td>\n",
       "      <td>selalu enak.. pertahankan terus..</td>\n",
       "      <td>5.0</td>\n",
       "    </tr>\n",
       "    <tr>\n",
       "      <th>3</th>\n",
       "      <td>Jank Jank Wings, Delivery &amp; Take Away</td>\n",
       "      <td>Purchased on 27 September 2024</td>\n",
       "      <td>Bb Toss 1 Tiny</td>\n",
       "      <td>Menu andalan aku kalo lagi pengen makan ayam.....</td>\n",
       "      <td>4.0</td>\n",
       "    </tr>\n",
       "    <tr>\n",
       "      <th>4</th>\n",
       "      <td>Jank Jank Wings, Delivery &amp; Take Away</td>\n",
       "      <td>Purchased on 25 September 2024</td>\n",
       "      <td>JJ 1 Giant</td>\n",
       "      <td>maaf saya lagi kondisi ga fit dan laper, nasin...</td>\n",
       "      <td>4.0</td>\n",
       "    </tr>\n",
       "  </tbody>\n",
       "</table>\n",
       "</div>"
      ],
      "text/plain": [
       "                             merchant_name                     date_review  \\\n",
       "0  Mie Bakar Celaket, Jaksa Agung Suprapto    Purchased on 1 November 2024   \n",
       "1  Mie Bakar Celaket, Jaksa Agung Suprapto    Purchased on 3 November 2024   \n",
       "2  Mie Bakar Celaket, Jaksa Agung Suprapto     Purchased on 6 October 2024   \n",
       "3    Jank Jank Wings, Delivery & Take Away  Purchased on 27 September 2024   \n",
       "4    Jank Jank Wings, Delivery & Take Away  Purchased on 25 September 2024   \n",
       "\n",
       "                                        product_name  \\\n",
       "0  Mie Bakar Bratwurst (Sosis) Ori - Mie Bakar Da...   \n",
       "1                                            Combo 1   \n",
       "2                                            Combo 1   \n",
       "3                                     Bb Toss 1 Tiny   \n",
       "4                                         JJ 1 Giant   \n",
       "\n",
       "                                              review  rating  \n",
       "0                                  mantabbb pokoknya     4.0  \n",
       "1                    enak tapi porsinya tambah dikit     4.0  \n",
       "2                  selalu enak.. pertahankan terus..     5.0  \n",
       "3  Menu andalan aku kalo lagi pengen makan ayam.....     4.0  \n",
       "4  maaf saya lagi kondisi ga fit dan laper, nasin...     4.0  "
      ]
     },
     "execution_count": 6,
     "metadata": {},
     "output_type": "execute_result"
    }
   ],
   "source": [
    "data.head()"
   ]
  }
 ],
 "metadata": {
  "kernelspec": {
   "display_name": "rdv_env",
   "language": "python",
   "name": "python3"
  },
  "language_info": {
   "codemirror_mode": {
    "name": "ipython",
    "version": 3
   },
   "file_extension": ".py",
   "mimetype": "text/x-python",
   "name": "python",
   "nbconvert_exporter": "python",
   "pygments_lexer": "ipython3",
   "version": "3.12.4"
  }
 },
 "nbformat": 4,
 "nbformat_minor": 5
}
